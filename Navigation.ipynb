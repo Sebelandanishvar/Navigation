{
 "cells": [
  {
   "cell_type": "markdown",
   "metadata": {},
   "source": [
    "# Navigation\n",
    "\n",
    "---\n",
    "\n",
    "This coding environment may be used to train your agent for the project.  To get started, please follow the instructions below.\n",
    "\n",
    "### 1. Start the Environment\n",
    "\n",
    "You will need to run the next code cell to install a few packages.  It will take a few minutes for this line to run."
   ]
  },
  {
   "cell_type": "code",
   "execution_count": 1,
   "metadata": {},
   "outputs": [
    {
     "name": "stdout",
     "output_type": "stream",
     "text": [
      "\u001b[31mtensorflow 1.7.1 has requirement numpy>=1.13.3, but you'll have numpy 1.12.1 which is incompatible.\u001b[0m\n",
      "\u001b[31mipython 6.5.0 has requirement prompt-toolkit<2.0.0,>=1.0.15, but you'll have prompt-toolkit 3.0.30 which is incompatible.\u001b[0m\n",
      "\u001b[31mjupyter-console 6.4.3 has requirement jupyter-client>=7.0.0, but you'll have jupyter-client 5.2.4 which is incompatible.\u001b[0m\n"
     ]
    }
   ],
   "source": [
    "!pip -q install ./python"
   ]
  },
  {
   "cell_type": "markdown",
   "metadata": {},
   "source": [
    "The environment is already saved in the Workspace and can be accessed at the file path provided below.  Please run the next code cell without making any changes."
   ]
  },
  {
   "cell_type": "code",
   "execution_count": 2,
   "metadata": {},
   "outputs": [
    {
     "name": "stderr",
     "output_type": "stream",
     "text": [
      "INFO:unityagents:\n",
      "'Academy' started successfully!\n",
      "Unity Academy name: Academy\n",
      "        Number of Brains: 1\n",
      "        Number of External Brains : 1\n",
      "        Lesson number : 0\n",
      "        Reset Parameters :\n",
      "\t\t\n",
      "Unity brain name: BananaBrain\n",
      "        Number of Visual Observations (per agent): 0\n",
      "        Vector Observation space type: continuous\n",
      "        Vector Observation space size (per agent): 37\n",
      "        Number of stacked Vector Observation: 1\n",
      "        Vector Action space type: discrete\n",
      "        Vector Action space size (per agent): 4\n",
      "        Vector Action descriptions: , , , \n"
     ]
    }
   ],
   "source": [
    "from unityagents import UnityEnvironment\n",
    "import numpy as np\n",
    "import gym\n",
    "import random\n",
    "import torch\n",
    "from collections import deque\n",
    "import matplotlib.pyplot as plt\n",
    "%matplotlib inline\n",
    "\n",
    "# please do not modify the line below\n",
    "env = UnityEnvironment(file_name=\"/data/Banana_Linux_NoVis/Banana.x86_64\")"
   ]
  },
  {
   "cell_type": "code",
   "execution_count": null,
   "metadata": {},
   "outputs": [],
   "source": []
  },
  {
   "cell_type": "markdown",
   "metadata": {},
   "source": [
    "Environments contain **_brains_** which are responsible for deciding the actions of their associated agents. Here we check for the first brain available, and set it as the default brain we will be controlling from Python."
   ]
  },
  {
   "cell_type": "code",
   "execution_count": 3,
   "metadata": {},
   "outputs": [],
   "source": [
    "# get the default brain\n",
    "brain_name = env.brain_names[0]\n",
    "brain = env.brains[brain_name]"
   ]
  },
  {
   "cell_type": "markdown",
   "metadata": {},
   "source": [
    "### 2. Examine the State and Action Spaces\n",
    "\n",
    "Run the code cell below to print some information about the environment."
   ]
  },
  {
   "cell_type": "code",
   "execution_count": 4,
   "metadata": {},
   "outputs": [
    {
     "name": "stdout",
     "output_type": "stream",
     "text": [
      "Number of agents: 1\n",
      "Number of actions: 4\n",
      "States look like: [ 1.          0.          0.          0.          0.84408134  0.          0.\n",
      "  1.          0.          0.0748472   0.          1.          0.          0.\n",
      "  0.25755     1.          0.          0.          0.          0.74177343\n",
      "  0.          1.          0.          0.          0.25854847  0.          0.\n",
      "  1.          0.          0.09355672  0.          1.          0.          0.\n",
      "  0.31969345  0.          0.        ]\n",
      "States have length: 37\n"
     ]
    }
   ],
   "source": [
    "# reset the environment\n",
    "env_info = env.reset(train_mode=True)[brain_name]\n",
    "\n",
    "# number of agents in the environment\n",
    "print('Number of agents:', len(env_info.agents))\n",
    "\n",
    "# number of actions\n",
    "action_size = brain.vector_action_space_size\n",
    "print('Number of actions:', action_size)\n",
    "\n",
    "# examine the state space \n",
    "state = env_info.vector_observations[0]\n",
    "print('States look like:', state)\n",
    "state_size = len(state)\n",
    "print('States have length:', state_size)"
   ]
  },
  {
   "cell_type": "markdown",
   "metadata": {},
   "source": [
    "### 3. Take Random Actions in the Environment\n",
    "\n",
    "In the next code cell, you will learn how to use the Python API to control the agent and receive feedback from the environment.\n",
    "\n",
    "Note that **in this coding environment, you will not be able to watch the agent while it is training**, and you should set `train_mode=True` to restart the environment."
   ]
  },
  {
   "cell_type": "code",
   "execution_count": 5,
   "metadata": {},
   "outputs": [
    {
     "name": "stdout",
     "output_type": "stream",
     "text": [
      "Score: 0.0\n"
     ]
    }
   ],
   "source": [
    "env_info = env.reset(train_mode=True)[brain_name] # reset the environment\n",
    "state = env_info.vector_observations[0]            # get the current state\n",
    "score = 0                                          # initialize the score\n",
    "while True:\n",
    "    action = np.random.randint(action_size)        # select an action\n",
    "    env_info = env.step(action)[brain_name]        # send the action to the environment\n",
    "    next_state = env_info.vector_observations[0]   # get the next state\n",
    "    reward = env_info.rewards[0]                   # get the reward\n",
    "    done = env_info.local_done[0]                  # see if episode has finished\n",
    "    score += reward                                # update the score\n",
    "    state = next_state                             # roll over the state to next time step\n",
    "    if done:                                       # exit loop if episode finished\n",
    "        break\n",
    "    \n",
    "print(\"Score: {}\".format(score))"
   ]
  },
  {
   "cell_type": "markdown",
   "metadata": {},
   "source": [
    "When finished, you can close the environment."
   ]
  },
  {
   "cell_type": "code",
   "execution_count": 6,
   "metadata": {},
   "outputs": [],
   "source": [
    "#env.close()"
   ]
  },
  {
   "cell_type": "markdown",
   "metadata": {},
   "source": [
    "### 4. It's Your Turn!\n",
    "\n",
    "Now it's your turn to train your own agent to solve the environment!  A few **important notes**:\n",
    "- When training the environment, set `train_mode=True`, so that the line for resetting the environment looks like the following:\n",
    "```python\n",
    "env_info = env.reset(train_mode=True)[brain_name]\n",
    "```\n",
    "- To structure your work, you're welcome to work directly in this Jupyter notebook, or you might like to start over with a new file!  You can see the list of files in the workspace by clicking on **_Jupyter_** in the top left corner of the notebook.\n",
    "- In this coding environment, you will not be able to watch the agent while it is training.  However, **_after training the agent_**, you can download the saved model weights to watch the agent on your own machine! "
   ]
  },
  {
   "cell_type": "code",
   "execution_count": 7,
   "metadata": {},
   "outputs": [],
   "source": [
    "from dqn_agent import Agent\n",
    "agent = Agent(state_size=37, action_size=4, seed=32)\n",
    "\n"
   ]
  },
  {
   "cell_type": "code",
   "execution_count": 8,
   "metadata": {},
   "outputs": [
    {
     "name": "stdout",
     "output_type": "stream",
     "text": [
      "Episode 100\tAverage Score: 0.95\n",
      "Episode 200\tAverage Score: 4.81\n",
      "Episode 300\tAverage Score: 8.35\n",
      "Episode 400\tAverage Score: 10.64\n",
      "Episode 500\tAverage Score: 13.47\n",
      "Episode 600\tAverage Score: 13.31\n",
      "Episode 694\tAverage Score: 15.00\n",
      "Model saved in 694 episodes!\tAverage Score: 15.00\n",
      "Episode 695\tAverage Score: 15.01\n",
      "Model saved in 695 episodes!\tAverage Score: 15.01\n",
      "Episode 700\tAverage Score: 14.91\n",
      "Episode 782\tAverage Score: 15.02\n",
      "Model saved in 782 episodes!\tAverage Score: 15.02\n",
      "Episode 783\tAverage Score: 15.13\n",
      "Model saved in 783 episodes!\tAverage Score: 15.13\n",
      "Episode 798\tAverage Score: 15.18\n",
      "Model saved in 798 episodes!\tAverage Score: 15.18\n",
      "Episode 800\tAverage Score: 15.09\n",
      "Episode 803\tAverage Score: 15.21\n",
      "Model saved in 803 episodes!\tAverage Score: 15.21\n",
      "Episode 814\tAverage Score: 15.22\n",
      "Model saved in 814 episodes!\tAverage Score: 15.22\n",
      "Episode 824\tAverage Score: 15.25\n",
      "Model saved in 824 episodes!\tAverage Score: 15.25\n",
      "Episode 825\tAverage Score: 15.34\n",
      "Model saved in 825 episodes!\tAverage Score: 15.34\n",
      "Episode 827\tAverage Score: 15.40\n",
      "Model saved in 827 episodes!\tAverage Score: 15.40\n",
      "Episode 828\tAverage Score: 15.50\n",
      "Model saved in 828 episodes!\tAverage Score: 15.50\n",
      "Episode 831\tAverage Score: 15.52\n",
      "Model saved in 831 episodes!\tAverage Score: 15.52\n",
      "Episode 832\tAverage Score: 15.58\n",
      "Model saved in 832 episodes!\tAverage Score: 15.58\n",
      "Episode 833\tAverage Score: 15.61\n",
      "Model saved in 833 episodes!\tAverage Score: 15.61\n",
      "Episode 834\tAverage Score: 15.64\n",
      "Model saved in 834 episodes!\tAverage Score: 15.64\n",
      "Episode 840\tAverage Score: 15.66\n",
      "Model saved in 840 episodes!\tAverage Score: 15.66\n",
      "Episode 841\tAverage Score: 15.67\n",
      "Model saved in 841 episodes!\tAverage Score: 15.67\n",
      "Episode 854\tAverage Score: 15.70\n",
      "Model saved in 854 episodes!\tAverage Score: 15.70\n",
      "Episode 855\tAverage Score: 15.82\n",
      "Model saved in 855 episodes!\tAverage Score: 15.82\n",
      "Episode 867\tAverage Score: 15.84\n",
      "Model saved in 867 episodes!\tAverage Score: 15.84\n",
      "Episode 870\tAverage Score: 15.90\n",
      "Model saved in 870 episodes!\tAverage Score: 15.90\n",
      "Episode 877\tAverage Score: 15.98\n",
      "Model saved in 877 episodes!\tAverage Score: 15.98\n",
      "Episode 900\tAverage Score: 15.96\n",
      "Episode 908\tAverage Score: 16.00\n",
      "Model saved in 908 episodes!\tAverage Score: 16.00\n",
      "Episode 909\tAverage Score: 16.03\n",
      "Model saved in 909 episodes!\tAverage Score: 16.03\n",
      "Episode 916\tAverage Score: 16.08\n",
      "Model saved in 916 episodes!\tAverage Score: 16.08\n",
      "Episode 917\tAverage Score: 16.13\n",
      "Model saved in 917 episodes!\tAverage Score: 16.13\n",
      "Episode 923\tAverage Score: 16.15\n",
      "Model saved in 923 episodes!\tAverage Score: 16.15\n",
      "Episode 924\tAverage Score: 16.20\n",
      "Model saved in 924 episodes!\tAverage Score: 16.20\n",
      "Episode 927\tAverage Score: 16.22\n",
      "Model saved in 927 episodes!\tAverage Score: 16.22\n",
      "Episode 928\tAverage Score: 16.23\n",
      "Model saved in 928 episodes!\tAverage Score: 16.23\n",
      "Episode 929\tAverage Score: 16.26\n",
      "Model saved in 929 episodes!\tAverage Score: 16.26\n",
      "Episode 930\tAverage Score: 16.35\n",
      "Model saved in 930 episodes!\tAverage Score: 16.35\n",
      "Episode 1000\tAverage Score: 16.10\n",
      "Episode 1100\tAverage Score: 15.69\n",
      "Episode 1200\tAverage Score: 16.10\n",
      "Episode 1230\tAverage Score: 16.37\n",
      "Model saved in 1230 episodes!\tAverage Score: 16.37\n",
      "Episode 1231\tAverage Score: 16.44\n",
      "Model saved in 1231 episodes!\tAverage Score: 16.44\n",
      "Episode 1232\tAverage Score: 16.53\n",
      "Model saved in 1232 episodes!\tAverage Score: 16.53\n",
      "Episode 1233\tAverage Score: 16.59\n",
      "Model saved in 1233 episodes!\tAverage Score: 16.59\n",
      "Episode 1234\tAverage Score: 16.60\n",
      "Model saved in 1234 episodes!\tAverage Score: 16.60\n",
      "Episode 1236\tAverage Score: 16.64\n",
      "Model saved in 1236 episodes!\tAverage Score: 16.64\n",
      "Episode 1237\tAverage Score: 16.68\n",
      "Model saved in 1237 episodes!\tAverage Score: 16.68\n",
      "Episode 1238\tAverage Score: 16.75\n",
      "Model saved in 1238 episodes!\tAverage Score: 16.75\n",
      "Episode 1300\tAverage Score: 16.42\n",
      "Episode 1341\tAverage Score: 16.76\n",
      "Model saved in 1341 episodes!\tAverage Score: 16.76\n",
      "Episode 1343\tAverage Score: 16.81\n",
      "Model saved in 1343 episodes!\tAverage Score: 16.81\n",
      "Episode 1345\tAverage Score: 16.85\n",
      "Model saved in 1345 episodes!\tAverage Score: 16.85\n",
      "Episode 1351\tAverage Score: 16.91\n",
      "Model saved in 1351 episodes!\tAverage Score: 16.91\n",
      "Episode 1352\tAverage Score: 16.92\n",
      "Model saved in 1352 episodes!\tAverage Score: 16.92\n",
      "Episode 1353\tAverage Score: 17.00\n",
      "Model saved in 1353 episodes!\tAverage Score: 17.00\n",
      "Episode 1354\tAverage Score: 17.01\n",
      "Model saved in 1354 episodes!\tAverage Score: 17.01\n",
      "Episode 1400\tAverage Score: 15.94\n",
      "Episode 1500\tAverage Score: 15.78\n",
      "Episode 1600\tAverage Score: 16.49\n",
      "Episode 1700\tAverage Score: 15.37\n",
      "Episode 1800\tAverage Score: 16.07\n",
      "Episode 1900\tAverage Score: 15.67\n",
      "Episode 2000\tAverage Score: 16.34\n"
     ]
    },
    {
     "data": {
      "image/png": "[encoded data removed]",
      "text/plain": [
       "<matplotlib.figure.Figure at 0x7fe3dc73b1d0>"
      ]
     },
     "metadata": {
      "needs_background": "light"
     },
     "output_type": "display_data"
    }
   ],
   "source": [
    "def dqn(n_episodes=2000, max_t=1000, eps_start=1.0, eps_end=0.01, eps_decay=0.995):\n",
    "    \"\"\"Deep Q-Learning.\n",
    "    \n",
    "    Params\n",
    "    ======\n",
    "        n_episodes (int): maximum number of training episodes\n",
    "        max_t (int): maximum number of timesteps per episode\n",
    "        eps_start (float): starting value of epsilon, for epsilon-greedy action selection\n",
    "        eps_end (float): minimum value of epsilon\n",
    "        eps_decay (float): multiplicative factor (per episode) for decreasing epsilon\n",
    "    \"\"\"\n",
    "    scores = []                        # list containing scores from each episode\n",
    "    maxx = 0\n",
    "    scores_window = deque(maxlen=100)  # last 100 scores\n",
    "    eps = eps_start                    # initialize epsilon\n",
    "    for i_episode in range(1, n_episodes+1):\n",
    "        env_info = env.reset(train_mode=True)[brain_name]\n",
    "        state = env_info.vector_observations[0]\n",
    "        score = 0\n",
    "        for t in range(max_t):\n",
    "            action = (int)(agent.act(state, eps))\n",
    "            env_info = env.step(action)[brain_name]\n",
    "            next_state = env_info.vector_observations[0]\n",
    "            reward = env_info.rewards[0]\n",
    "            done = env_info.local_done[0]\n",
    "            agent.step(state, action, reward, next_state, done)\n",
    "            state = next_state\n",
    "            score+=reward\n",
    "            if done:\n",
    "                break \n",
    "        scores_window.append(score)       # save most recent score\n",
    "        scores.append(score)              # save most recent score\n",
    "        eps = max(eps_end, eps_decay*eps) # decrease epsilon\n",
    "        print('\\rEpisode {}\\tAverage Score: {:.2f}'.format(i_episode, np.mean(scores_window)), end=\"\")\n",
    "        if i_episode % 100 == 0:\n",
    "            print('\\rEpisode {}\\tAverage Score: {:.2f}'.format(i_episode, np.mean(scores_window)))\n",
    "        if  np.mean(scores_window)>maxx and np.mean(scores_window)>=15:\n",
    "            maxx = np.mean(scores_window)\n",
    "            print('\\nModel saved in {:d} episodes!\\tAverage Score: {:.2f}'.format(i_episode, np.mean(scores_window)))\n",
    "            torch.save(agent.qnetwork_local.state_dict(), 'checkpoint.pth')\n",
    "            \n",
    "    return scores\n",
    "\n",
    "scores = dqn()\n",
    "\n",
    "# plot the scores\n",
    "fig = plt.figure()\n",
    "ax = fig.add_subplot(111)\n",
    "plt.plot(np.arange(len(scores)), scores)\n",
    "plt.ylabel('Score')\n",
    "plt.xlabel('Episode #')\n",
    "plt.show()"
   ]
  },
  {
   "cell_type": "code",
   "execution_count": 11,
   "metadata": {},
   "outputs": [
    {
     "name": "stdout",
     "output_type": "stream",
     "text": [
      "Score: 21.0\n"
     ]
    }
   ],
   "source": [
    "agent.qnetwork_local.load_state_dict(torch.load('checkpoint.pth'))\n",
    "env_info = env.reset(train_mode=True)[brain_name] # reset the environment\n",
    "state = env_info.vector_observations[0]            # get the current state\n",
    "score = 0                                          # initialize the score\n",
    "while True:\n",
    "    action = agent.act(state)                      # select an action\n",
    "    env_info = env.step(action)[brain_name]        # send the action to the environment\n",
    "    next_state = env_info.vector_observations[0]   # get the next state\n",
    "    reward = env_info.rewards[0]                   # get the reward\n",
    "    done = env_info.local_done[0]                  # see if episode has finished\n",
    "    score += reward                                # update the score\n",
    "    state = next_state                             # roll over the state to next time step\n",
    "    if done:                                       # exit loop if episode finished\n",
    "        break\n",
    "    \n",
    "print(\"Score: {}\".format(score))"
   ]
  },
  {
   "cell_type": "code",
   "execution_count": null,
   "metadata": {},
   "outputs": [],
   "source": []
  },
  {
   "cell_type": "code",
   "execution_count": null,
   "metadata": {},
   "outputs": [],
   "source": []
  },
  {
   "cell_type": "code",
   "execution_count": null,
   "metadata": {},
   "outputs": [],
   "source": []
  },
  {
   "cell_type": "code",
   "execution_count": null,
   "metadata": {},
   "outputs": [],
   "source": []
  }
 ],
 "metadata": {
  "kernelspec": {
   "display_name": "Python 3",
   "language": "python",
   "name": "python3"
  },
  "language_info": {
   "codemirror_mode": {
    "name": "ipython",
    "version": 3
   },
   "file_extension": ".py",
   "mimetype": "text/x-python",
   "name": "python",
   "nbconvert_exporter": "python",
   "pygments_lexer": "ipython3",
   "version": "3.6.3"
  }
 },
 "nbformat": 4,
 "nbformat_minor": 2
}
